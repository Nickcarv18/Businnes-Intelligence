{
 "cells": [
  {
   "cell_type": "code",
   "execution_count": 34,
   "id": "b8173bcd",
   "metadata": {},
   "outputs": [],
   "source": [
    "import pandas as pd\n",
    "import statsmodels.api as sm\n",
    "import matplotlib.pyplot as plt\n",
    "import scipy.stats as stats"
   ]
  },
  {
   "cell_type": "markdown",
   "id": "a44386d6",
   "metadata": {},
   "source": [
    "#### EXERCÍCIO 1"
   ]
  },
  {
   "cell_type": "markdown",
   "id": "709643b0",
   "metadata": {},
   "source": [
    "##### 1. Sejam os seguintes valores relativos ao número de cheques devolvidos, expressos em milhares de unidades, no Estado de LeMonde:"
   ]
  },
  {
   "cell_type": "code",
   "execution_count": 2,
   "id": "6b807765",
   "metadata": {},
   "outputs": [],
   "source": [
    "mes1996 = [1, 2, 3, 4, 5]\n",
    "numero1996 = [2508, 2430, 2791, 2436, 2652]"
   ]
  },
  {
   "cell_type": "code",
   "execution_count": 3,
   "id": "9704d5b5",
   "metadata": {},
   "outputs": [],
   "source": [
    "dados = pd.DataFrame(zip(mes1996, numero1996), columns = ['mes1996', 'numero1996'])"
   ]
  },
  {
   "cell_type": "code",
   "execution_count": 4,
   "id": "73b4b37a",
   "metadata": {},
   "outputs": [
    {
     "name": "stderr",
     "output_type": "stream",
     "text": [
      "C:\\Users\\nicol\\anaconda3\\lib\\site-packages\\statsmodels\\stats\\stattools.py:74: ValueWarning: omni_normtest is not valid with less than 8 observations; 5 samples were given.\n",
      "  warn(\"omni_normtest is not valid with less than 8 observations; %i \"\n"
     ]
    },
    {
     "data": {
      "text/html": [
       "<table class=\"simpletable\">\n",
       "<caption>OLS Regression Results</caption>\n",
       "<tr>\n",
       "  <th>Dep. Variable:</th>       <td>numero1996</td>    <th>  R-squared:         </th> <td>   0.089</td>\n",
       "</tr>\n",
       "<tr>\n",
       "  <th>Model:</th>                   <td>OLS</td>       <th>  Adj. R-squared:    </th> <td>  -0.214</td>\n",
       "</tr>\n",
       "<tr>\n",
       "  <th>Method:</th>             <td>Least Squares</td>  <th>  F-statistic:       </th> <td>  0.2943</td>\n",
       "</tr>\n",
       "<tr>\n",
       "  <th>Date:</th>             <td>Tue, 06 Sep 2022</td> <th>  Prob (F-statistic):</th>  <td> 0.625</td> \n",
       "</tr>\n",
       "<tr>\n",
       "  <th>Time:</th>                 <td>18:50:40</td>     <th>  Log-Likelihood:    </th> <td> -31.537</td>\n",
       "</tr>\n",
       "<tr>\n",
       "  <th>No. Observations:</th>      <td>     5</td>      <th>  AIC:               </th> <td>   67.07</td>\n",
       "</tr>\n",
       "<tr>\n",
       "  <th>Df Residuals:</th>          <td>     3</td>      <th>  BIC:               </th> <td>   66.29</td>\n",
       "</tr>\n",
       "<tr>\n",
       "  <th>Df Model:</th>              <td>     1</td>      <th>                     </th>     <td> </td>   \n",
       "</tr>\n",
       "<tr>\n",
       "  <th>Covariance Type:</th>      <td>nonrobust</td>    <th>                     </th>     <td> </td>   \n",
       "</tr>\n",
       "</table>\n",
       "<table class=\"simpletable\">\n",
       "<tr>\n",
       "     <td></td>        <th>coef</th>     <th>std err</th>      <th>t</th>      <th>P>|t|</th>  <th>[0.025</th>    <th>0.975]</th>  \n",
       "</tr>\n",
       "<tr>\n",
       "  <th>const</th>   <td> 2475.2000</td> <td>  179.735</td> <td>   13.771</td> <td> 0.001</td> <td> 1903.203</td> <td> 3047.197</td>\n",
       "</tr>\n",
       "<tr>\n",
       "  <th>mes1996</th> <td>   29.4000</td> <td>   54.192</td> <td>    0.543</td> <td> 0.625</td> <td> -143.064</td> <td>  201.864</td>\n",
       "</tr>\n",
       "</table>\n",
       "<table class=\"simpletable\">\n",
       "<tr>\n",
       "  <th>Omnibus:</th>       <td>   nan</td> <th>  Durbin-Watson:     </th> <td>   3.451</td>\n",
       "</tr>\n",
       "<tr>\n",
       "  <th>Prob(Omnibus):</th> <td>   nan</td> <th>  Jarque-Bera (JB):  </th> <td>   0.420</td>\n",
       "</tr>\n",
       "<tr>\n",
       "  <th>Skew:</th>          <td> 0.585</td> <th>  Prob(JB):          </th> <td>   0.811</td>\n",
       "</tr>\n",
       "<tr>\n",
       "  <th>Kurtosis:</th>      <td> 2.194</td> <th>  Cond. No.          </th> <td>    8.37</td>\n",
       "</tr>\n",
       "</table><br/><br/>Notes:<br/>[1] Standard Errors assume that the covariance matrix of the errors is correctly specified."
      ],
      "text/plain": [
       "<class 'statsmodels.iolib.summary.Summary'>\n",
       "\"\"\"\n",
       "                            OLS Regression Results                            \n",
       "==============================================================================\n",
       "Dep. Variable:             numero1996   R-squared:                       0.089\n",
       "Model:                            OLS   Adj. R-squared:                 -0.214\n",
       "Method:                 Least Squares   F-statistic:                    0.2943\n",
       "Date:                Tue, 06 Sep 2022   Prob (F-statistic):              0.625\n",
       "Time:                        18:50:40   Log-Likelihood:                -31.537\n",
       "No. Observations:                   5   AIC:                             67.07\n",
       "Df Residuals:                       3   BIC:                             66.29\n",
       "Df Model:                           1                                         \n",
       "Covariance Type:            nonrobust                                         \n",
       "==============================================================================\n",
       "                 coef    std err          t      P>|t|      [0.025      0.975]\n",
       "------------------------------------------------------------------------------\n",
       "const       2475.2000    179.735     13.771      0.001    1903.203    3047.197\n",
       "mes1996       29.4000     54.192      0.543      0.625    -143.064     201.864\n",
       "==============================================================================\n",
       "Omnibus:                          nan   Durbin-Watson:                   3.451\n",
       "Prob(Omnibus):                    nan   Jarque-Bera (JB):                0.420\n",
       "Skew:                           0.585   Prob(JB):                        0.811\n",
       "Kurtosis:                       2.194   Cond. No.                         8.37\n",
       "==============================================================================\n",
       "\n",
       "Notes:\n",
       "[1] Standard Errors assume that the covariance matrix of the errors is correctly specified.\n",
       "\"\"\""
      ]
     },
     "execution_count": 4,
     "metadata": {},
     "output_type": "execute_result"
    }
   ],
   "source": [
    "X1996 = dados['mes1996']\n",
    "y1996 = dados['numero1996']\n",
    "X1996 = sm.add_constant(X1996)\n",
    "model = sm.OLS(y1996,X1996).fit()\n",
    "model.summary()\n"
   ]
  },
  {
   "cell_type": "markdown",
   "id": "2dec24dc",
   "metadata": {},
   "source": [
    "##### a)Estimar uma reta de regressão para o ano de 1996 e calcular o coeficiente de determinação\n",
    "R² = 89% \n",
    "numero1996 = 2475,20 + 0 * mes1996 \n",
    "numero1996 = 2475,20"
   ]
  },
  {
   "cell_type": "code",
   "execution_count": 5,
   "id": "e91f6d3b",
   "metadata": {},
   "outputs": [],
   "source": [
    "mes1997 = [1, 2, 3, 4, 5, 6, 7, 8]\n",
    "numero1997 = [2884, 2359, 2764, 2695, 2617, 2903, 3131, 2906]"
   ]
  },
  {
   "cell_type": "code",
   "execution_count": 6,
   "id": "b977ae80",
   "metadata": {},
   "outputs": [],
   "source": [
    "dados = pd.DataFrame(zip(mes1997, numero1997), columns = ['mes1997', 'numero1997'])"
   ]
  },
  {
   "cell_type": "code",
   "execution_count": 7,
   "id": "74ab022f",
   "metadata": {},
   "outputs": [
    {
     "name": "stderr",
     "output_type": "stream",
     "text": [
      "C:\\Users\\nicol\\anaconda3\\lib\\site-packages\\scipy\\stats\\stats.py:1541: UserWarning: kurtosistest only valid for n>=20 ... continuing anyway, n=8\n",
      "  warnings.warn(\"kurtosistest only valid for n>=20 ... continuing \"\n"
     ]
    },
    {
     "data": {
      "text/html": [
       "<table class=\"simpletable\">\n",
       "<caption>OLS Regression Results</caption>\n",
       "<tr>\n",
       "  <th>Dep. Variable:</th>       <td>numero1997</td>    <th>  R-squared:         </th> <td>   0.300</td>\n",
       "</tr>\n",
       "<tr>\n",
       "  <th>Model:</th>                   <td>OLS</td>       <th>  Adj. R-squared:    </th> <td>   0.183</td>\n",
       "</tr>\n",
       "<tr>\n",
       "  <th>Method:</th>             <td>Least Squares</td>  <th>  F-statistic:       </th> <td>   2.568</td>\n",
       "</tr>\n",
       "<tr>\n",
       "  <th>Date:</th>             <td>Tue, 06 Sep 2022</td> <th>  Prob (F-statistic):</th>  <td> 0.160</td> \n",
       "</tr>\n",
       "<tr>\n",
       "  <th>Time:</th>                 <td>18:50:43</td>     <th>  Log-Likelihood:    </th> <td> -52.961</td>\n",
       "</tr>\n",
       "<tr>\n",
       "  <th>No. Observations:</th>      <td>     8</td>      <th>  AIC:               </th> <td>   109.9</td>\n",
       "</tr>\n",
       "<tr>\n",
       "  <th>Df Residuals:</th>          <td>     6</td>      <th>  BIC:               </th> <td>   110.1</td>\n",
       "</tr>\n",
       "<tr>\n",
       "  <th>Df Model:</th>              <td>     1</td>      <th>                     </th>     <td> </td>   \n",
       "</tr>\n",
       "<tr>\n",
       "  <th>Covariance Type:</th>      <td>nonrobust</td>    <th>                     </th>     <td> </td>   \n",
       "</tr>\n",
       "</table>\n",
       "<table class=\"simpletable\">\n",
       "<tr>\n",
       "     <td></td>        <th>coef</th>     <th>std err</th>      <th>t</th>      <th>P>|t|</th>  <th>[0.025</th>    <th>0.975]</th>  \n",
       "</tr>\n",
       "<tr>\n",
       "  <th>const</th>   <td> 2549.1786</td> <td>  163.284</td> <td>   15.612</td> <td> 0.000</td> <td> 2149.638</td> <td> 2948.719</td>\n",
       "</tr>\n",
       "<tr>\n",
       "  <th>mes1997</th> <td>   51.8214</td> <td>   32.335</td> <td>    1.603</td> <td> 0.160</td> <td>  -27.299</td> <td>  130.942</td>\n",
       "</tr>\n",
       "</table>\n",
       "<table class=\"simpletable\">\n",
       "<tr>\n",
       "  <th>Omnibus:</th>       <td> 0.109</td> <th>  Durbin-Watson:     </th> <td>   2.472</td>\n",
       "</tr>\n",
       "<tr>\n",
       "  <th>Prob(Omnibus):</th> <td> 0.947</td> <th>  Jarque-Bera (JB):  </th> <td>   0.319</td>\n",
       "</tr>\n",
       "<tr>\n",
       "  <th>Skew:</th>          <td> 0.014</td> <th>  Prob(JB):          </th> <td>   0.853</td>\n",
       "</tr>\n",
       "<tr>\n",
       "  <th>Kurtosis:</th>      <td> 2.023</td> <th>  Cond. No.          </th> <td>    11.5</td>\n",
       "</tr>\n",
       "</table><br/><br/>Notes:<br/>[1] Standard Errors assume that the covariance matrix of the errors is correctly specified."
      ],
      "text/plain": [
       "<class 'statsmodels.iolib.summary.Summary'>\n",
       "\"\"\"\n",
       "                            OLS Regression Results                            \n",
       "==============================================================================\n",
       "Dep. Variable:             numero1997   R-squared:                       0.300\n",
       "Model:                            OLS   Adj. R-squared:                  0.183\n",
       "Method:                 Least Squares   F-statistic:                     2.568\n",
       "Date:                Tue, 06 Sep 2022   Prob (F-statistic):              0.160\n",
       "Time:                        18:50:43   Log-Likelihood:                -52.961\n",
       "No. Observations:                   8   AIC:                             109.9\n",
       "Df Residuals:                       6   BIC:                             110.1\n",
       "Df Model:                           1                                         \n",
       "Covariance Type:            nonrobust                                         \n",
       "==============================================================================\n",
       "                 coef    std err          t      P>|t|      [0.025      0.975]\n",
       "------------------------------------------------------------------------------\n",
       "const       2549.1786    163.284     15.612      0.000    2149.638    2948.719\n",
       "mes1997       51.8214     32.335      1.603      0.160     -27.299     130.942\n",
       "==============================================================================\n",
       "Omnibus:                        0.109   Durbin-Watson:                   2.472\n",
       "Prob(Omnibus):                  0.947   Jarque-Bera (JB):                0.319\n",
       "Skew:                           0.014   Prob(JB):                        0.853\n",
       "Kurtosis:                       2.023   Cond. No.                         11.5\n",
       "==============================================================================\n",
       "\n",
       "Notes:\n",
       "[1] Standard Errors assume that the covariance matrix of the errors is correctly specified.\n",
       "\"\"\""
      ]
     },
     "execution_count": 7,
     "metadata": {},
     "output_type": "execute_result"
    }
   ],
   "source": [
    "X1997 = dados['mes1997']\n",
    "y1997 = dados['numero1997']\n",
    "X1997 = sm.add_constant(X1997)\n",
    "model = sm.OLS(y1997,X1997).fit()\n",
    "model.summary()"
   ]
  },
  {
   "cell_type": "markdown",
   "id": "9eb87f59",
   "metadata": {},
   "source": [
    "##### b)Repetir o processo do item (a) para o ano de 1997\n",
    "R² = 30% \n",
    "numero1997 = 2549,17 + 0 * mes1997 \n",
    "numero1997 = 2549,17\n"
   ]
  },
  {
   "cell_type": "code",
   "execution_count": 8,
   "id": "f2f80c9b",
   "metadata": {},
   "outputs": [],
   "source": [
    "mes1996_1997 = [1, 2, 3, 4, 5, 6, 7, 8, 9, 10, 11, 12, 13]\n",
    "numero1996_1997 = [2508, 2430, 2791, 2436, 2652, 2884, 2359, 2764, 2695, 2617, 2903, 3131, 2906]"
   ]
  },
  {
   "cell_type": "code",
   "execution_count": 9,
   "id": "65baf577",
   "metadata": {},
   "outputs": [],
   "source": [
    "dados = pd.DataFrame(zip(mes1996_1997, numero1996_1997), columns = ['mes1996_1997', 'numero1996_1997'])"
   ]
  },
  {
   "cell_type": "code",
   "execution_count": 10,
   "id": "d9756864",
   "metadata": {},
   "outputs": [
    {
     "name": "stderr",
     "output_type": "stream",
     "text": [
      "C:\\Users\\nicol\\anaconda3\\lib\\site-packages\\scipy\\stats\\stats.py:1541: UserWarning: kurtosistest only valid for n>=20 ... continuing anyway, n=13\n",
      "  warnings.warn(\"kurtosistest only valid for n>=20 ... continuing \"\n"
     ]
    },
    {
     "data": {
      "text/html": [
       "<table class=\"simpletable\">\n",
       "<caption>OLS Regression Results</caption>\n",
       "<tr>\n",
       "  <th>Dep. Variable:</th>     <td>numero1996_1997</td> <th>  R-squared:         </th> <td>   0.415</td>\n",
       "</tr>\n",
       "<tr>\n",
       "  <th>Model:</th>                   <td>OLS</td>       <th>  Adj. R-squared:    </th> <td>   0.362</td>\n",
       "</tr>\n",
       "<tr>\n",
       "  <th>Method:</th>             <td>Least Squares</td>  <th>  F-statistic:       </th> <td>   7.818</td>\n",
       "</tr>\n",
       "<tr>\n",
       "  <th>Date:</th>             <td>Tue, 06 Sep 2022</td> <th>  Prob (F-statistic):</th>  <td>0.0174</td> \n",
       "</tr>\n",
       "<tr>\n",
       "  <th>Time:</th>                 <td>18:50:45</td>     <th>  Log-Likelihood:    </th> <td> -84.983</td>\n",
       "</tr>\n",
       "<tr>\n",
       "  <th>No. Observations:</th>      <td>    13</td>      <th>  AIC:               </th> <td>   174.0</td>\n",
       "</tr>\n",
       "<tr>\n",
       "  <th>Df Residuals:</th>          <td>    11</td>      <th>  BIC:               </th> <td>   175.1</td>\n",
       "</tr>\n",
       "<tr>\n",
       "  <th>Df Model:</th>              <td>     1</td>      <th>                     </th>     <td> </td>   \n",
       "</tr>\n",
       "<tr>\n",
       "  <th>Covariance Type:</th>      <td>nonrobust</td>    <th>                     </th>     <td> </td>   \n",
       "</tr>\n",
       "</table>\n",
       "<table class=\"simpletable\">\n",
       "<tr>\n",
       "        <td></td>          <th>coef</th>     <th>std err</th>      <th>t</th>      <th>P>|t|</th>  <th>[0.025</th>    <th>0.975]</th>  \n",
       "</tr>\n",
       "<tr>\n",
       "  <th>const</th>        <td> 2434.6923</td> <td>  106.840</td> <td>   22.788</td> <td> 0.000</td> <td> 2199.539</td> <td> 2669.846</td>\n",
       "</tr>\n",
       "<tr>\n",
       "  <th>mes1996_1997</th> <td>   37.6374</td> <td>   13.461</td> <td>    2.796</td> <td> 0.017</td> <td>    8.011</td> <td>   67.264</td>\n",
       "</tr>\n",
       "</table>\n",
       "<table class=\"simpletable\">\n",
       "<tr>\n",
       "  <th>Omnibus:</th>       <td> 0.108</td> <th>  Durbin-Watson:     </th> <td>   2.715</td>\n",
       "</tr>\n",
       "<tr>\n",
       "  <th>Prob(Omnibus):</th> <td> 0.948</td> <th>  Jarque-Bera (JB):  </th> <td>   0.223</td>\n",
       "</tr>\n",
       "<tr>\n",
       "  <th>Skew:</th>          <td>-0.168</td> <th>  Prob(JB):          </th> <td>   0.894</td>\n",
       "</tr>\n",
       "<tr>\n",
       "  <th>Kurtosis:</th>      <td> 2.453</td> <th>  Cond. No.          </th> <td>    17.0</td>\n",
       "</tr>\n",
       "</table><br/><br/>Notes:<br/>[1] Standard Errors assume that the covariance matrix of the errors is correctly specified."
      ],
      "text/plain": [
       "<class 'statsmodels.iolib.summary.Summary'>\n",
       "\"\"\"\n",
       "                            OLS Regression Results                            \n",
       "==============================================================================\n",
       "Dep. Variable:        numero1996_1997   R-squared:                       0.415\n",
       "Model:                            OLS   Adj. R-squared:                  0.362\n",
       "Method:                 Least Squares   F-statistic:                     7.818\n",
       "Date:                Tue, 06 Sep 2022   Prob (F-statistic):             0.0174\n",
       "Time:                        18:50:45   Log-Likelihood:                -84.983\n",
       "No. Observations:                  13   AIC:                             174.0\n",
       "Df Residuals:                      11   BIC:                             175.1\n",
       "Df Model:                           1                                         \n",
       "Covariance Type:            nonrobust                                         \n",
       "================================================================================\n",
       "                   coef    std err          t      P>|t|      [0.025      0.975]\n",
       "--------------------------------------------------------------------------------\n",
       "const         2434.6923    106.840     22.788      0.000    2199.539    2669.846\n",
       "mes1996_1997    37.6374     13.461      2.796      0.017       8.011      67.264\n",
       "==============================================================================\n",
       "Omnibus:                        0.108   Durbin-Watson:                   2.715\n",
       "Prob(Omnibus):                  0.948   Jarque-Bera (JB):                0.223\n",
       "Skew:                          -0.168   Prob(JB):                        0.894\n",
       "Kurtosis:                       2.453   Cond. No.                         17.0\n",
       "==============================================================================\n",
       "\n",
       "Notes:\n",
       "[1] Standard Errors assume that the covariance matrix of the errors is correctly specified.\n",
       "\"\"\""
      ]
     },
     "execution_count": 10,
     "metadata": {},
     "output_type": "execute_result"
    }
   ],
   "source": [
    "X1996_1997 = dados['mes1996_1997']\n",
    "y1996_1997 = dados['numero1996_1997']\n",
    "X1996_1997 = sm.add_constant(X1996_1997)\n",
    "model = sm.OLS(y1996_1997,X1996_1997).fit()\n",
    "model.summary()"
   ]
  },
  {
   "cell_type": "markdown",
   "id": "f3ffaf35",
   "metadata": {},
   "source": [
    "###### c) Novamente repetir o processo do item (a), considerando os dois períodos em estudo (1996/1997)\n",
    "R² = 41,5% \n",
    "numero1996_1997 = 2434,69 + 37,63 * mes1996_1997"
   ]
  },
  {
   "cell_type": "markdown",
   "id": "d33ab1b0",
   "metadata": {},
   "source": [
    "###### d) Com base nas retas estimadas, nos itens (a), (b) e (c), fazer uma previsão para o número de cheques compensados em setembro de 1997 e compará-lo\n"
   ]
  },
  {
   "cell_type": "code",
   "execution_count": 11,
   "id": "1b6ada0f",
   "metadata": {},
   "outputs": [
    {
     "data": {
      "text/plain": [
       "2961.51"
      ]
     },
     "execution_count": 11,
     "metadata": {},
     "output_type": "execute_result"
    }
   ],
   "source": [
    "2434.69 + 37.63 * 14"
   ]
  },
  {
   "cell_type": "markdown",
   "id": "04980448",
   "metadata": {},
   "source": [
    "### Exercicío 2"
   ]
  },
  {
   "cell_type": "markdown",
   "id": "8de2e954",
   "metadata": {},
   "source": [
    "##### 2. A tabela a seguir indica as quantidades produzidas de certo produto e os respectivos vustos totais de produção, apresentados pela Empresa LTDA Ltda. durante a primeira semana do mês de janeiro de 2020:"
   ]
  },
  {
   "cell_type": "code",
   "execution_count": 14,
   "id": "b74bad54",
   "metadata": {},
   "outputs": [],
   "source": [
    "quantidade = [10, 25, 50, 80, 90]\n",
    "custoTotal = [150, 290, 540, 840, 900]"
   ]
  },
  {
   "cell_type": "code",
   "execution_count": 15,
   "id": "1b097582",
   "metadata": {},
   "outputs": [],
   "source": [
    "dados = pd.DataFrame(zip(quantidade, custoTotal), columns = ['quantidade', 'custoTotal'])"
   ]
  },
  {
   "cell_type": "code",
   "execution_count": 16,
   "id": "f4f82525",
   "metadata": {},
   "outputs": [
    {
     "name": "stderr",
     "output_type": "stream",
     "text": [
      "C:\\Users\\nicol\\anaconda3\\lib\\site-packages\\statsmodels\\stats\\stattools.py:74: ValueWarning: omni_normtest is not valid with less than 8 observations; 5 samples were given.\n",
      "  warn(\"omni_normtest is not valid with less than 8 observations; %i \"\n"
     ]
    },
    {
     "data": {
      "text/html": [
       "<table class=\"simpletable\">\n",
       "<caption>OLS Regression Results</caption>\n",
       "<tr>\n",
       "  <th>Dep. Variable:</th>       <td>custoTotal</td>    <th>  R-squared:         </th> <td>   0.998</td>\n",
       "</tr>\n",
       "<tr>\n",
       "  <th>Model:</th>                   <td>OLS</td>       <th>  Adj. R-squared:    </th> <td>   0.998</td>\n",
       "</tr>\n",
       "<tr>\n",
       "  <th>Method:</th>             <td>Least Squares</td>  <th>  F-statistic:       </th> <td>   1863.</td>\n",
       "</tr>\n",
       "<tr>\n",
       "  <th>Date:</th>             <td>Tue, 06 Sep 2022</td> <th>  Prob (F-statistic):</th> <td>2.74e-05</td>\n",
       "</tr>\n",
       "<tr>\n",
       "  <th>Time:</th>                 <td>18:59:49</td>     <th>  Log-Likelihood:    </th> <td> -19.441</td>\n",
       "</tr>\n",
       "<tr>\n",
       "  <th>No. Observations:</th>      <td>     5</td>      <th>  AIC:               </th> <td>   42.88</td>\n",
       "</tr>\n",
       "<tr>\n",
       "  <th>Df Residuals:</th>          <td>     3</td>      <th>  BIC:               </th> <td>   42.10</td>\n",
       "</tr>\n",
       "<tr>\n",
       "  <th>Df Model:</th>              <td>     1</td>      <th>                     </th>     <td> </td>   \n",
       "</tr>\n",
       "<tr>\n",
       "  <th>Covariance Type:</th>      <td>nonrobust</td>    <th>                     </th>     <td> </td>   \n",
       "</tr>\n",
       "</table>\n",
       "<table class=\"simpletable\">\n",
       "<tr>\n",
       "       <td></td>         <th>coef</th>     <th>std err</th>      <th>t</th>      <th>P>|t|</th>  <th>[0.025</th>    <th>0.975]</th>  \n",
       "</tr>\n",
       "<tr>\n",
       "  <th>const</th>      <td>   55.2860</td> <td>   13.217</td> <td>    4.183</td> <td> 0.025</td> <td>   13.223</td> <td>   97.349</td>\n",
       "</tr>\n",
       "<tr>\n",
       "  <th>quantidade</th> <td>    9.5826</td> <td>    0.222</td> <td>   43.168</td> <td> 0.000</td> <td>    8.876</td> <td>   10.289</td>\n",
       "</tr>\n",
       "</table>\n",
       "<table class=\"simpletable\">\n",
       "<tr>\n",
       "  <th>Omnibus:</th>       <td>   nan</td> <th>  Durbin-Watson:     </th> <td>   2.240</td>\n",
       "</tr>\n",
       "<tr>\n",
       "  <th>Prob(Omnibus):</th> <td>   nan</td> <th>  Jarque-Bera (JB):  </th> <td>   0.159</td>\n",
       "</tr>\n",
       "<tr>\n",
       "  <th>Skew:</th>          <td> 0.052</td> <th>  Prob(JB):          </th> <td>   0.923</td>\n",
       "</tr>\n",
       "<tr>\n",
       "  <th>Kurtosis:</th>      <td> 2.132</td> <th>  Cond. No.          </th> <td>    115.</td>\n",
       "</tr>\n",
       "</table><br/><br/>Notes:<br/>[1] Standard Errors assume that the covariance matrix of the errors is correctly specified."
      ],
      "text/plain": [
       "<class 'statsmodels.iolib.summary.Summary'>\n",
       "\"\"\"\n",
       "                            OLS Regression Results                            \n",
       "==============================================================================\n",
       "Dep. Variable:             custoTotal   R-squared:                       0.998\n",
       "Model:                            OLS   Adj. R-squared:                  0.998\n",
       "Method:                 Least Squares   F-statistic:                     1863.\n",
       "Date:                Tue, 06 Sep 2022   Prob (F-statistic):           2.74e-05\n",
       "Time:                        18:59:49   Log-Likelihood:                -19.441\n",
       "No. Observations:                   5   AIC:                             42.88\n",
       "Df Residuals:                       3   BIC:                             42.10\n",
       "Df Model:                           1                                         \n",
       "Covariance Type:            nonrobust                                         \n",
       "==============================================================================\n",
       "                 coef    std err          t      P>|t|      [0.025      0.975]\n",
       "------------------------------------------------------------------------------\n",
       "const         55.2860     13.217      4.183      0.025      13.223      97.349\n",
       "quantidade     9.5826      0.222     43.168      0.000       8.876      10.289\n",
       "==============================================================================\n",
       "Omnibus:                          nan   Durbin-Watson:                   2.240\n",
       "Prob(Omnibus):                    nan   Jarque-Bera (JB):                0.159\n",
       "Skew:                           0.052   Prob(JB):                        0.923\n",
       "Kurtosis:                       2.132   Cond. No.                         115.\n",
       "==============================================================================\n",
       "\n",
       "Notes:\n",
       "[1] Standard Errors assume that the covariance matrix of the errors is correctly specified.\n",
       "\"\"\""
      ]
     },
     "execution_count": 16,
     "metadata": {},
     "output_type": "execute_result"
    }
   ],
   "source": [
    "X = dados['quantidade']\n",
    "y = dados['custoTotal']\n",
    "X = sm.add_constant(X)\n",
    "model = sm.OLS(y,X).fit()\n",
    "model.summary()"
   ]
  },
  {
   "cell_type": "markdown",
   "id": "2f5be92f",
   "metadata": {},
   "source": [
    "###### a) A reta que melhor se ajuste a esses dados\n",
    "\n",
    "custoTotal = 55,28 + 9,58 * quantidade"
   ]
  },
  {
   "cell_type": "markdown",
   "id": "acf081fe",
   "metadata": {},
   "source": [
    "###### b) O valor mais provável dos custos fixos\n",
    "\n",
    "55,28"
   ]
  },
  {
   "cell_type": "markdown",
   "id": "2033b1f3",
   "metadata": {},
   "source": [
    "##### c) O valor estimado do custo variável total, para uma produção de 180 unidades"
   ]
  },
  {
   "cell_type": "code",
   "execution_count": 18,
   "id": "7c62259b",
   "metadata": {},
   "outputs": [
    {
     "data": {
      "text/plain": [
       "1779.68"
      ]
     },
     "execution_count": 18,
     "metadata": {},
     "output_type": "execute_result"
    }
   ],
   "source": [
    "55.28 + 9.58 * 180"
   ]
  },
  {
   "cell_type": "markdown",
   "id": "5bcfc3ed",
   "metadata": {},
   "source": [
    "###### d)Admitindo-se um preço de venda de RS 16,00 por unidade, estimar a quantidade mínima que se deve produzir para se obter lucro. Ponto de Equilíbrio = cf/(p-cv)"
   ]
  },
  {
   "cell_type": "code",
   "execution_count": 20,
   "id": "b2a7c976",
   "metadata": {},
   "outputs": [
    {
     "data": {
      "text/plain": [
       "8.610591900311526"
      ]
     },
     "execution_count": 20,
     "metadata": {},
     "output_type": "execute_result"
    }
   ],
   "source": [
    "55.28 / (16 - 9.58)\n",
    "\n",
    "# Quantidade mínima arredondando é 9"
   ]
  },
  {
   "cell_type": "markdown",
   "id": "f02d2693",
   "metadata": {},
   "source": [
    "### Exercicío 3"
   ]
  },
  {
   "cell_type": "markdown",
   "id": "a3f36bea",
   "metadata": {},
   "source": [
    "##### 3. A administração do Banco Dinheiro S.A. deseja estabelecer um critério objetivo para avaliar a eficiência de seus gerentes. Para isso, levantou para cada um dos subdistritos onde possui agência, dados a respeito do depósito médio mensal (em 1.000 dólares) por agência e o número de estabelecimentos comerciais existentes nesses subdistritos, obtendo os seguintes resultados:"
   ]
  },
  {
   "cell_type": "code",
   "execution_count": 31,
   "id": "1d2f288d",
   "metadata": {},
   "outputs": [],
   "source": [
    "numero = [16, 30, 35, 70, 80, 90, 120, 160]\n",
    "deposito = [14, 16, 19, 30, 35, 31, 33, 35]"
   ]
  },
  {
   "cell_type": "code",
   "execution_count": 32,
   "id": "bb5b9fba",
   "metadata": {},
   "outputs": [],
   "source": [
    "dados = pd.DataFrame(zip(numero, deposito), columns = ['numero', 'deposito'])"
   ]
  },
  {
   "cell_type": "code",
   "execution_count": 38,
   "id": "068b5b6b",
   "metadata": {},
   "outputs": [
    {
     "name": "stderr",
     "output_type": "stream",
     "text": [
      "C:\\Users\\nicol\\anaconda3\\lib\\site-packages\\scipy\\stats\\stats.py:1541: UserWarning: kurtosistest only valid for n>=20 ... continuing anyway, n=8\n",
      "  warnings.warn(\"kurtosistest only valid for n>=20 ... continuing \"\n"
     ]
    },
    {
     "data": {
      "text/html": [
       "<table class=\"simpletable\">\n",
       "<caption>OLS Regression Results</caption>\n",
       "<tr>\n",
       "  <th>Dep. Variable:</th>        <td>deposito</td>     <th>  R-squared:         </th> <td>   0.760</td>\n",
       "</tr>\n",
       "<tr>\n",
       "  <th>Model:</th>                   <td>OLS</td>       <th>  Adj. R-squared:    </th> <td>   0.720</td>\n",
       "</tr>\n",
       "<tr>\n",
       "  <th>Method:</th>             <td>Least Squares</td>  <th>  F-statistic:       </th> <td>   19.02</td>\n",
       "</tr>\n",
       "<tr>\n",
       "  <th>Date:</th>             <td>Tue, 06 Sep 2022</td> <th>  Prob (F-statistic):</th>  <td>0.00476</td>\n",
       "</tr>\n",
       "<tr>\n",
       "  <th>Time:</th>                 <td>19:42:09</td>     <th>  Log-Likelihood:    </th> <td> -22.502</td>\n",
       "</tr>\n",
       "<tr>\n",
       "  <th>No. Observations:</th>      <td>     8</td>      <th>  AIC:               </th> <td>   49.00</td>\n",
       "</tr>\n",
       "<tr>\n",
       "  <th>Df Residuals:</th>          <td>     6</td>      <th>  BIC:               </th> <td>   49.16</td>\n",
       "</tr>\n",
       "<tr>\n",
       "  <th>Df Model:</th>              <td>     1</td>      <th>                     </th>     <td> </td>   \n",
       "</tr>\n",
       "<tr>\n",
       "  <th>Covariance Type:</th>      <td>nonrobust</td>    <th>                     </th>     <td> </td>   \n",
       "</tr>\n",
       "</table>\n",
       "<table class=\"simpletable\">\n",
       "<tr>\n",
       "     <td></td>       <th>coef</th>     <th>std err</th>      <th>t</th>      <th>P>|t|</th>  <th>[0.025</th>    <th>0.975]</th>  \n",
       "</tr>\n",
       "<tr>\n",
       "  <th>const</th>  <td>   14.8018</td> <td>    3.171</td> <td>    4.667</td> <td> 0.003</td> <td>    7.042</td> <td>   22.562</td>\n",
       "</tr>\n",
       "<tr>\n",
       "  <th>numero</th> <td>    0.1574</td> <td>    0.036</td> <td>    4.361</td> <td> 0.005</td> <td>    0.069</td> <td>    0.246</td>\n",
       "</tr>\n",
       "</table>\n",
       "<table class=\"simpletable\">\n",
       "<tr>\n",
       "  <th>Omnibus:</th>       <td> 1.026</td> <th>  Durbin-Watson:     </th> <td>   0.798</td>\n",
       "</tr>\n",
       "<tr>\n",
       "  <th>Prob(Omnibus):</th> <td> 0.599</td> <th>  Jarque-Bera (JB):  </th> <td>   0.716</td>\n",
       "</tr>\n",
       "<tr>\n",
       "  <th>Skew:</th>          <td> 0.602</td> <th>  Prob(JB):          </th> <td>   0.699</td>\n",
       "</tr>\n",
       "<tr>\n",
       "  <th>Kurtosis:</th>      <td> 2.164</td> <th>  Cond. No.          </th> <td>    169.</td>\n",
       "</tr>\n",
       "</table><br/><br/>Notes:<br/>[1] Standard Errors assume that the covariance matrix of the errors is correctly specified."
      ],
      "text/plain": [
       "<class 'statsmodels.iolib.summary.Summary'>\n",
       "\"\"\"\n",
       "                            OLS Regression Results                            \n",
       "==============================================================================\n",
       "Dep. Variable:               deposito   R-squared:                       0.760\n",
       "Model:                            OLS   Adj. R-squared:                  0.720\n",
       "Method:                 Least Squares   F-statistic:                     19.02\n",
       "Date:                Tue, 06 Sep 2022   Prob (F-statistic):            0.00476\n",
       "Time:                        19:42:09   Log-Likelihood:                -22.502\n",
       "No. Observations:                   8   AIC:                             49.00\n",
       "Df Residuals:                       6   BIC:                             49.16\n",
       "Df Model:                           1                                         \n",
       "Covariance Type:            nonrobust                                         \n",
       "==============================================================================\n",
       "                 coef    std err          t      P>|t|      [0.025      0.975]\n",
       "------------------------------------------------------------------------------\n",
       "const         14.8018      3.171      4.667      0.003       7.042      22.562\n",
       "numero         0.1574      0.036      4.361      0.005       0.069       0.246\n",
       "==============================================================================\n",
       "Omnibus:                        1.026   Durbin-Watson:                   0.798\n",
       "Prob(Omnibus):                  0.599   Jarque-Bera (JB):                0.716\n",
       "Skew:                           0.602   Prob(JB):                        0.699\n",
       "Kurtosis:                       2.164   Cond. No.                         169.\n",
       "==============================================================================\n",
       "\n",
       "Notes:\n",
       "[1] Standard Errors assume that the covariance matrix of the errors is correctly specified.\n",
       "\"\"\""
      ]
     },
     "execution_count": 38,
     "metadata": {},
     "output_type": "execute_result"
    }
   ],
   "source": [
    "X = dados['numero']\n",
    "y = dados['deposito']\n",
    "X = sm.add_constant(X)\n",
    "model = sm.OLS(y,X).fit()\n",
    "model.summary()"
   ]
  },
  {
   "cell_type": "markdown",
   "id": "87227484",
   "metadata": {},
   "source": [
    "###### a) Ajustar uma reta de mínimos quadrados a seus valores;\n",
    "deposito = 18,80 + 0,15 * numero"
   ]
  },
  {
   "cell_type": "markdown",
   "id": "4a3ae303",
   "metadata": {},
   "source": [
    "###### b) Calcular o coeficiente de determinação;\n",
    "R² = 76%"
   ]
  },
  {
   "cell_type": "markdown",
   "id": "522e3a0a",
   "metadata": {},
   "source": [
    "###### c) Verificar quais são os gerentes eficientes.\n",
    "\n",
    "Os gerentes mais eficientes são: D, E, F"
   ]
  },
  {
   "cell_type": "code",
   "execution_count": 40,
   "id": "6bb9e044",
   "metadata": {},
   "outputs": [
    {
     "data": {
      "image/png": "[encoded data removed]",
      "text/plain": [
       "<Figure size 432x288 with 1 Axes>"
      ]
     },
     "metadata": {
      "needs_background": "light"
     },
     "output_type": "display_data"
    }
   ],
   "source": [
    "plt.plot(numero, deposito, 'o')\n",
    "plt.plot(numero, model.predict(X), color = 'red')\n",
    "plt.title('Eficiência dos gerentes')\n",
    "plt.xlabel('Número de agências')\n",
    "plt.ylabel('Depósitos')\n",
    "plt.show()"
   ]
  }
 ],
 "metadata": {
  "kernelspec": {
   "display_name": "Python 3 (ipykernel)",
   "language": "python",
   "name": "python3"
  },
  "language_info": {
   "codemirror_mode": {
    "name": "ipython",
    "version": 3
   },
   "file_extension": ".py",
   "mimetype": "text/x-python",
   "name": "python",
   "nbconvert_exporter": "python",
   "pygments_lexer": "ipython3",
   "version": "3.9.12"
  }
 },
 "nbformat": 4,
 "nbformat_minor": 5
}
