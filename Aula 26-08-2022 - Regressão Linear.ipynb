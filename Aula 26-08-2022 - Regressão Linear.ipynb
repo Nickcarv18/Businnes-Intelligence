{
 "cells": [
  {
   "cell_type": "markdown",
   "id": "c1170b48",
   "metadata": {},
   "source": [
    "# Regressão Linear"
   ]
  },
  {
   "cell_type": "markdown",
   "id": "05deb528",
   "metadata": {},
   "source": [
    "##### ctrl + enter - Executa a linha que você está\n",
    "##### Shift + enter - Executa a linha que você está e pula para próxima\n",
    "##### Shift + enter - Executa a linha e cria uma abaixo"
   ]
  },
  {
   "cell_type": "code",
   "execution_count": 2,
   "id": "1efca9f5",
   "metadata": {},
   "outputs": [
    {
     "name": "stdout",
     "output_type": "stream",
     "text": [
      "Óla Mundo !\n"
     ]
    }
   ],
   "source": [
    "print(\"Óla Mundo !\")"
   ]
  },
  {
   "cell_type": "code",
   "execution_count": 15,
   "id": "778a51e1",
   "metadata": {},
   "outputs": [],
   "source": [
    "import pandas as pd\n",
    "import matplotlib.pyplot as plt\n",
    "import os\n",
    "import statsmodels.api as sm"
   ]
  },
  {
   "cell_type": "code",
   "execution_count": 11,
   "id": "7d9b02d8",
   "metadata": {},
   "outputs": [],
   "source": [
    "os.chdir(\"C://Users//aluno//Desktop//db\")\n",
    "arquivo = pd.read_csv(\"tannin.csv\")"
   ]
  },
  {
   "cell_type": "code",
   "execution_count": 12,
   "id": "3e7593c3",
   "metadata": {},
   "outputs": [
    {
     "name": "stdout",
     "output_type": "stream",
     "text": [
      "          growth    tannin\n",
      "count   9.000000  9.000000\n",
      "mean    6.888889  4.000000\n",
      "std     3.689324  2.738613\n",
      "min     2.000000  0.000000\n",
      "25%     3.000000  2.000000\n",
      "50%     7.000000  4.000000\n",
      "75%    10.000000  6.000000\n",
      "max    12.000000  8.000000\n"
     ]
    }
   ],
   "source": [
    "print(arquivo.describe())"
   ]
  },
  {
   "cell_type": "code",
   "execution_count": 13,
   "id": "b21b3de1",
   "metadata": {},
   "outputs": [
    {
     "data": {
      "image/png": "[encoded data removed]",
      "text/plain": [
       "<Figure size 432x288 with 1 Axes>"
      ]
     },
     "metadata": {
      "needs_background": "light"
     },
     "output_type": "display_data"
    }
   ],
   "source": [
    "plt.plot(arquivo[\"tannin\"],arquivo[\"growth\"],'o')\n",
    "plt.title('Tannin vs Growth (Training set)')\n",
    "plt.xlabel('Tannin')\n",
    "plt.ylabel('Growth')\n",
    "plt.show()"
   ]
  },
  {
   "cell_type": "code",
   "execution_count": 16,
   "id": "edf47764",
   "metadata": {},
   "outputs": [],
   "source": [
    "X = arquivo[\"tannin\"]\n",
    "y = arquivo[\"growth\"]"
   ]
  },
  {
   "cell_type": "code",
   "execution_count": 22,
   "id": "e08a8179",
   "metadata": {},
   "outputs": [
    {
     "name": "stderr",
     "output_type": "stream",
     "text": [
      "C:\\ProgramData\\Anaconda3\\lib\\site-packages\\statsmodels\\tsa\\tsatools.py:142: FutureWarning: In a future version of pandas all arguments of concat except for the argument 'objs' will be keyword-only\n",
      "  x = pd.concat(x[::order], 1)\n"
     ]
    }
   ],
   "source": [
    "X = sm.add_constant(X)\n",
    "model = sm.OLS(y, X).fit()\n",
    "predictions = model.predict(X) # make the predictions by the model"
   ]
  },
  {
   "cell_type": "code",
   "execution_count": 21,
   "id": "36bd8512",
   "metadata": {},
   "outputs": [
    {
     "name": "stderr",
     "output_type": "stream",
     "text": [
      "C:\\ProgramData\\Anaconda3\\lib\\site-packages\\scipy\\stats\\stats.py:1541: UserWarning: kurtosistest only valid for n>=20 ... continuing anyway, n=9\n",
      "  warnings.warn(\"kurtosistest only valid for n>=20 ... continuing \"\n"
     ]
    },
    {
     "data": {
      "text/html": [
       "<table class=\"simpletable\">\n",
       "<caption>OLS Regression Results</caption>\n",
       "<tr>\n",
       "  <th>Dep. Variable:</th>         <td>growth</td>      <th>  R-squared:         </th> <td>   0.816</td>\n",
       "</tr>\n",
       "<tr>\n",
       "  <th>Model:</th>                   <td>OLS</td>       <th>  Adj. R-squared:    </th> <td>   0.789</td>\n",
       "</tr>\n",
       "<tr>\n",
       "  <th>Method:</th>             <td>Least Squares</td>  <th>  F-statistic:       </th> <td>   30.97</td>\n",
       "</tr>\n",
       "<tr>\n",
       "  <th>Date:</th>             <td>Fri, 26 Aug 2022</td> <th>  Prob (F-statistic):</th> <td>0.000846</td>\n",
       "</tr>\n",
       "<tr>\n",
       "  <th>Time:</th>                 <td>21:33:16</td>     <th>  Log-Likelihood:    </th> <td> -16.380</td>\n",
       "</tr>\n",
       "<tr>\n",
       "  <th>No. Observations:</th>      <td>     9</td>      <th>  AIC:               </th> <td>   36.76</td>\n",
       "</tr>\n",
       "<tr>\n",
       "  <th>Df Residuals:</th>          <td>     7</td>      <th>  BIC:               </th> <td>   37.15</td>\n",
       "</tr>\n",
       "<tr>\n",
       "  <th>Df Model:</th>              <td>     1</td>      <th>                     </th>     <td> </td>   \n",
       "</tr>\n",
       "<tr>\n",
       "  <th>Covariance Type:</th>      <td>nonrobust</td>    <th>                     </th>     <td> </td>   \n",
       "</tr>\n",
       "</table>\n",
       "<table class=\"simpletable\">\n",
       "<tr>\n",
       "     <td></td>       <th>coef</th>     <th>std err</th>      <th>t</th>      <th>P>|t|</th>  <th>[0.025</th>    <th>0.975]</th>  \n",
       "</tr>\n",
       "<tr>\n",
       "  <th>const</th>  <td>   11.7556</td> <td>    1.041</td> <td>   11.295</td> <td> 0.000</td> <td>    9.294</td> <td>   14.217</td>\n",
       "</tr>\n",
       "<tr>\n",
       "  <th>tannin</th> <td>   -1.2167</td> <td>    0.219</td> <td>   -5.565</td> <td> 0.001</td> <td>   -1.734</td> <td>   -0.700</td>\n",
       "</tr>\n",
       "</table>\n",
       "<table class=\"simpletable\">\n",
       "<tr>\n",
       "  <th>Omnibus:</th>       <td> 0.466</td> <th>  Durbin-Watson:     </th> <td>   2.937</td>\n",
       "</tr>\n",
       "<tr>\n",
       "  <th>Prob(Omnibus):</th> <td> 0.792</td> <th>  Jarque-Bera (JB):  </th> <td>   0.227</td>\n",
       "</tr>\n",
       "<tr>\n",
       "  <th>Skew:</th>          <td> 0.319</td> <th>  Prob(JB):          </th> <td>   0.893</td>\n",
       "</tr>\n",
       "<tr>\n",
       "  <th>Kurtosis:</th>      <td> 2.554</td> <th>  Cond. No.          </th> <td>    9.06</td>\n",
       "</tr>\n",
       "</table><br/><br/>Notes:<br/>[1] Standard Errors assume that the covariance matrix of the errors is correctly specified."
      ],
      "text/plain": [
       "<class 'statsmodels.iolib.summary.Summary'>\n",
       "\"\"\"\n",
       "                            OLS Regression Results                            \n",
       "==============================================================================\n",
       "Dep. Variable:                 growth   R-squared:                       0.816\n",
       "Model:                            OLS   Adj. R-squared:                  0.789\n",
       "Method:                 Least Squares   F-statistic:                     30.97\n",
       "Date:                Fri, 26 Aug 2022   Prob (F-statistic):           0.000846\n",
       "Time:                        21:33:16   Log-Likelihood:                -16.380\n",
       "No. Observations:                   9   AIC:                             36.76\n",
       "Df Residuals:                       7   BIC:                             37.15\n",
       "Df Model:                           1                                         \n",
       "Covariance Type:            nonrobust                                         \n",
       "==============================================================================\n",
       "                 coef    std err          t      P>|t|      [0.025      0.975]\n",
       "------------------------------------------------------------------------------\n",
       "const         11.7556      1.041     11.295      0.000       9.294      14.217\n",
       "tannin        -1.2167      0.219     -5.565      0.001      -1.734      -0.700\n",
       "==============================================================================\n",
       "Omnibus:                        0.466   Durbin-Watson:                   2.937\n",
       "Prob(Omnibus):                  0.792   Jarque-Bera (JB):                0.227\n",
       "Skew:                           0.319   Prob(JB):                        0.893\n",
       "Kurtosis:                       2.554   Cond. No.                         9.06\n",
       "==============================================================================\n",
       "\n",
       "Notes:\n",
       "[1] Standard Errors assume that the covariance matrix of the errors is correctly specified.\n",
       "\"\"\""
      ]
     },
     "execution_count": 21,
     "metadata": {},
     "output_type": "execute_result"
    }
   ],
   "source": [
    "model.summary()"
   ]
  },
  {
   "cell_type": "code",
   "execution_count": null,
   "id": "2b4c9109",
   "metadata": {},
   "outputs": [],
   "source": []
  }
 ],
 "metadata": {
  "kernelspec": {
   "display_name": "Python 3 (ipykernel)",
   "language": "python",
   "name": "python3"
  },
  "language_info": {
   "codemirror_mode": {
    "name": "ipython",
    "version": 3
   },
   "file_extension": ".py",
   "mimetype": "text/x-python",
   "name": "python",
   "nbconvert_exporter": "python",
   "pygments_lexer": "ipython3",
   "version": "3.9.7"
  }
 },
 "nbformat": 4,
 "nbformat_minor": 5
}
