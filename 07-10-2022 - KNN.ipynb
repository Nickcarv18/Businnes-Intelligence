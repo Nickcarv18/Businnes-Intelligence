{
 "cells": [
  {
   "cell_type": "code",
   "execution_count": 12,
   "id": "e0691f5c",
   "metadata": {},
   "outputs": [],
   "source": [
    "import pandas as pd\n",
    "#import random\n",
    "import matplotlib.pyplot as plt"
   ]
  },
  {
   "cell_type": "code",
   "execution_count": 13,
   "id": "5a8f3e7c",
   "metadata": {},
   "outputs": [],
   "source": [
    "# Loading libraries\n",
    "from sklearn.neighbors import KNeighborsClassifier\n",
    "from sklearn.metrics import confusion_matrix, accuracy_score, classification_report\n",
    "#from sklearn.model_selection import train_test_split, cross_val_score"
   ]
  },
  {
   "cell_type": "code",
   "execution_count": 14,
   "id": "93f16ba9",
   "metadata": {},
   "outputs": [],
   "source": [
    "#loading dataset\n",
    "dados = pd.read_csv(\"Smarket.csv\")"
   ]
  },
  {
   "cell_type": "markdown",
   "id": "67c7d5af",
   "metadata": {},
   "source": [
    "#### Separando bases de Treinamento e Teste, segundo um critério: \n",
    "• treinamento → antes de 2005                                                                    \n",
    "• Teste → a partir de 2005"
   ]
  },
  {
   "cell_type": "code",
   "execution_count": 15,
   "id": "4e6b6b44",
   "metadata": {},
   "outputs": [],
   "source": [
    "train = dados.loc[dados['Year']<2005]\n",
    "test = dados.loc[dados['Year']==2005]"
   ]
  },
  {
   "cell_type": "code",
   "execution_count": 16,
   "id": "45723eef",
   "metadata": {},
   "outputs": [],
   "source": [
    "inputs = ['Lag1','Lag2']\n",
    "X_train = train[inputs]\n",
    "y_train = train['Direction']"
   ]
  },
  {
   "cell_type": "code",
   "execution_count": 17,
   "id": "00b46a42",
   "metadata": {},
   "outputs": [],
   "source": [
    "X_test = test[inputs]\n",
    "y_test = test['Direction']"
   ]
  },
  {
   "cell_type": "code",
   "execution_count": 18,
   "id": "ea1bda37",
   "metadata": {},
   "outputs": [],
   "source": [
    "# Inicializando KNN para k=3\n",
    "classifier = KNeighborsClassifier(n_neighbors=3)"
   ]
  },
  {
   "cell_type": "code",
   "execution_count": 19,
   "id": "cae6d316",
   "metadata": {},
   "outputs": [
    {
     "data": {
      "text/plain": [
       "KNeighborsClassifier(n_neighbors=3)"
      ]
     },
     "execution_count": 19,
     "metadata": {},
     "output_type": "execute_result"
    }
   ],
   "source": [
    "# Fitting the model\n",
    "classifier.fit(X_train, y_train)"
   ]
  },
  {
   "cell_type": "code",
   "execution_count": 20,
   "id": "bc40ce18",
   "metadata": {},
   "outputs": [],
   "source": [
    "# Previsão dos dados de Teste\n",
    "y_pred = classifier.predict(X_test)"
   ]
  },
  {
   "cell_type": "code",
   "execution_count": 21,
   "id": "724263e1",
   "metadata": {},
   "outputs": [
    {
     "data": {
      "text/plain": [
       "0.5317460317460317"
      ]
     },
     "execution_count": 21,
     "metadata": {},
     "output_type": "execute_result"
    }
   ],
   "source": [
    "# Acurácia\n",
    "accuracy_score(y_test, y_pred)"
   ]
  },
  {
   "cell_type": "code",
   "execution_count": 23,
   "id": "d41f082c",
   "metadata": {},
   "outputs": [
    {
     "name": "stdout",
     "output_type": "stream",
     "text": [
      "[[48 63]\n",
      " [55 86]]\n"
     ]
    }
   ],
   "source": [
    "# Matriz de Confusão\n",
    "print(confusion_matrix(y_test, y_pred))"
   ]
  },
  {
   "cell_type": "code",
   "execution_count": 24,
   "id": "88bc950a",
   "metadata": {},
   "outputs": [
    {
     "name": "stdout",
     "output_type": "stream",
     "text": [
      "              precision    recall  f1-score   support\n",
      "\n",
      "           0       0.47      0.43      0.45       111\n",
      "           1       0.58      0.61      0.59       141\n",
      "\n",
      "    accuracy                           0.53       252\n",
      "   macro avg       0.52      0.52      0.52       252\n",
      "weighted avg       0.53      0.53      0.53       252\n",
      "\n"
     ]
    }
   ],
   "source": [
    "print(classification_report (y_test, y_pred))"
   ]
  },
  {
   "cell_type": "code",
   "execution_count": null,
   "id": "95588f0c",
   "metadata": {},
   "outputs": [],
   "source": []
  }
 ],
 "metadata": {
  "kernelspec": {
   "display_name": "Python 3 (ipykernel)",
   "language": "python",
   "name": "python3"
  },
  "language_info": {
   "codemirror_mode": {
    "name": "ipython",
    "version": 3
   },
   "file_extension": ".py",
   "mimetype": "text/x-python",
   "name": "python",
   "nbconvert_exporter": "python",
   "pygments_lexer": "ipython3",
   "version": "3.9.7"
  }
 },
 "nbformat": 4,
 "nbformat_minor": 5
}
